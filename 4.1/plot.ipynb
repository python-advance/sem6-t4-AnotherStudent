{
 "cells": [
  {
   "cell_type": "markdown",
   "metadata": {},
   "source": [
    "В качестве набора данных был выбран датасет про размер устриц.\n",
    "В таблице представленны данные о массе и объёме каждой устрицы (в унциях). На графике же хорошо видно, как размер устрицы зависит от этих двух параметров."
   ]
  },
  {
   "cell_type": "code",
   "execution_count": 15,
   "metadata": {},
   "outputs": [
    {
     "name": "stdout",
     "output_type": "stream",
     "text": [
      "   Weight  Volume\n",
      "0   12.92   13.04\n",
      "1   11.40   11.71\n",
      "2   17.42   17.42\n",
      "3    6.79    7.23\n",
      "4    9.62   10.03\n",
      "5   15.50   15.59\n",
      "6    9.66    9.94\n",
      "7    7.02    7.53\n",
      "8   12.56   12.73\n",
      "9   12.49   12.66\n"
     ]
    }
   ],
   "source": [
    "import matplotlib.pyplot as plot\n",
    "import pandas\n",
    "import math\n",
    "\n",
    "data = pandas.read_csv('data.csv')\n",
    "print(pandas.DataFrame(data).head(10))"
   ]
  },
  {
   "cell_type": "markdown",
   "metadata": {},
   "source": [
    "Генерация сетов X и Y"
   ]
  },
  {
   "cell_type": "code",
   "execution_count": 16,
   "metadata": {},
   "outputs": [],
   "source": [
    "data_frame = pandas.DataFrame(data)\n",
    "X = data_frame[\"Weight\"].tolist()\n",
    "Y = data_frame[\"Volume\"].tolist()"
   ]
  },
  {
   "cell_type": "markdown",
   "metadata": {},
   "source": [
    "Построение графика"
   ]
  },
  {
   "cell_type": "code",
   "execution_count": 17,
   "metadata": {},
   "outputs": [
    {
     "data": {
      "image/png": "[encoded data removed]",
      "text/plain": [
       "<Figure size 432x288 with 1 Axes>"
      ]
     },
     "metadata": {
      "needs_background": "light"
     },
     "output_type": "display_data"
    }
   ],
   "source": [
    "plot.title('Размер устриц')\n",
    "plot.scatter(X,Y,c='blue',marker='*')\n",
    "plot.xlabel('Weight')\n",
    "plot.ylabel('Volume')\n",
    "plot.show()"
   ]
  }
 ],
 "metadata": {
  "kernelspec": {
   "display_name": "Python 3",
   "language": "python",
   "name": "python3"
  },
  "language_info": {
   "codemirror_mode": {
    "name": "ipython",
    "version": 3
   },
   "file_extension": ".py",
   "mimetype": "text/x-python",
   "name": "python",
   "nbconvert_exporter": "python",
   "pygments_lexer": "ipython3",
   "version": "3.7.0"
  }
 },
 "nbformat": 4,
 "nbformat_minor": 2
}
